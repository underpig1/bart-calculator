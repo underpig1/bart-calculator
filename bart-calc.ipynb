{
 "cells": [
  {
   "cell_type": "code",
   "execution_count": 3,
   "id": "632a2093-5337-44fb-9734-4cc20d410524",
   "metadata": {},
   "outputs": [
    {
     "name": "stdout",
     "output_type": "stream",
     "text": [
      "Collecting openrouteservice\n",
      "  Using cached openrouteservice-2.3.3-py3-none-any.whl.metadata (9.2 kB)\n",
      "Requirement already satisfied: requests>=2.0 in /srv/conda/lib/python3.11/site-packages (from openrouteservice) (2.32.3)\n",
      "Requirement already satisfied: charset_normalizer<4,>=2 in /srv/conda/lib/python3.11/site-packages (from requests>=2.0->openrouteservice) (3.4.0)\n",
      "Requirement already satisfied: idna<4,>=2.5 in /srv/conda/lib/python3.11/site-packages (from requests>=2.0->openrouteservice) (3.10)\n",
      "Requirement already satisfied: urllib3<3,>=1.21.1 in /srv/conda/lib/python3.11/site-packages (from requests>=2.0->openrouteservice) (2.3.0)\n",
      "Requirement already satisfied: certifi>=2017.4.17 in /srv/conda/lib/python3.11/site-packages (from requests>=2.0->openrouteservice) (2025.1.31)\n",
      "Using cached openrouteservice-2.3.3-py3-none-any.whl (33 kB)\n",
      "Installing collected packages: openrouteservice\n",
      "Successfully installed openrouteservice-2.3.3\n",
      "Collecting geopy\n",
      "  Using cached geopy-2.4.1-py3-none-any.whl.metadata (6.8 kB)\n",
      "Collecting geographiclib<3,>=1.52 (from geopy)\n",
      "  Using cached geographiclib-2.0-py3-none-any.whl.metadata (1.4 kB)\n",
      "Using cached geopy-2.4.1-py3-none-any.whl (125 kB)\n",
      "Using cached geographiclib-2.0-py3-none-any.whl (40 kB)\n",
      "Installing collected packages: geographiclib, geopy\n",
      "Successfully installed geographiclib-2.0 geopy-2.4.1\n"
     ]
    }
   ],
   "source": [
    "!pip install openrouteservice\n",
    "!pip install geopy"
   ]
  },
  {
   "cell_type": "code",
   "execution_count": 1,
   "id": "f19bde19-55e2-4b95-a844-3f393b94fb9d",
   "metadata": {
    "scrolled": true
   },
   "outputs": [
    {
     "data": {
      "application/vnd.jupyter.widget-view+json": {
       "model_id": "9eb08699cf514eaab540f18968cdc018",
       "version_major": 2,
       "version_minor": 0
      },
      "text/plain": [
       "Dropdown(description='Start:', options=('Downtown Berkeley', '16th St Mission', 'Embarcadero', 'Fremont', 'Mac…"
      ]
     },
     "metadata": {},
     "output_type": "display_data"
    },
    {
     "data": {
      "application/vnd.jupyter.widget-view+json": {
       "model_id": "fca416eb688c4c14b5bf369a83088b62",
       "version_major": 2,
       "version_minor": 0
      },
      "text/plain": [
       "Dropdown(description='End:', options=('Downtown Berkeley', '16th St Mission', 'Embarcadero', 'Fremont', 'MacAr…"
      ]
     },
     "metadata": {},
     "output_type": "display_data"
    },
    {
     "data": {
      "application/vnd.jupyter.widget-view+json": {
       "model_id": "4e1b0b5d4cf140b6b1ad7be1645421cf",
       "version_major": 2,
       "version_minor": 0
      },
      "text/plain": [
       "Button(description='Compare CO₂', style=ButtonStyle())"
      ]
     },
     "metadata": {},
     "output_type": "display_data"
    },
    {
     "data": {
      "application/vnd.jupyter.widget-view+json": {
       "model_id": "7d23a93109524f9e9fd4fa5ecbfcac01",
       "version_major": 2,
       "version_minor": 0
      },
      "text/plain": [
       "Output()"
      ]
     },
     "metadata": {},
     "output_type": "display_data"
    }
   ],
   "source": [
    "import openrouteservice\n",
    "import ipywidgets as widgets\n",
    "from IPython.display import display\n",
    "import folium\n",
    "from math import radians, sin, cos, sqrt, atan2\n",
    "import numpy as np\n",
    "\n",
    "ORS_API_KEY = \"5b3ce3597851110001cf6248e69218e7578143a6a3b6711a43b4e590\"\n",
    "client = openrouteservice.Client(key=ORS_API_KEY)\n",
    "\n",
    "CAR_CO2_PER_MILE = 404\n",
    "BART_CO2_PER_MILE = 53\n",
    "BUS_CO2_PER_MILE = 299\n",
    "\n",
    "station_coords = {\n",
    "    \"Downtown Berkeley\": (-122.2727, 37.8699),\n",
    "    \"16th St Mission\": (-122.4190, 37.7652),\n",
    "    \"Embarcadero\": (-122.3969, 37.7929),\n",
    "    \"Fremont\": (-121.9764, 37.5573),\n",
    "    \"MacArthur\": (-122.2672, 37.8291),\n",
    "    \"SFO\": (-122.3929, 37.6159),\n",
    "    \"Richmond\": (-122.3532, 37.9369),\n",
    "    \"El Cerrito Plaza\": (-122.2993, 37.9026),\n",
    "    \"El Cerrito del Norte\": (-122.3033, 37.9210),\n",
    "    \"North Berkeley\": (-122.2778, 37.8747),\n",
    "    \"Ashby\": (-122.2692, 37.8286),\n",
    "    \"19th St Oakland\": (-122.2759, 37.8055),\n",
    "    \"12th St Oakland City Center\": (-122.2711, 37.8044),\n",
    "    \"Lake Merritt\": (-122.2670, 37.7992),\n",
    "    \"Fruitvale\": (-122.2339, 37.7751),\n",
    "    \"Coliseum\": (-122.2106, 37.7526),\n",
    "    \"San Leandro\": (-122.1607, 37.7241),\n",
    "    \"Bay Fair\": (-122.1212, 37.6877),\n",
    "    \"Hayward\": (-122.0803, 37.6688),\n",
    "    \"South Hayward\": (-122.0422, 37.6523),\n",
    "    \"Union City\": (-121.9821, 37.5955),\n",
    "    \"Pittsburg/Bay Point\": (-121.9983, 38.0165),\n",
    "    \"North Concord/Martinez\": (-122.0276, 38.0036),\n",
    "    \"Concord\": (-122.0295, 38.0133),\n",
    "    \"Pleasant Hill\": (-122.0346, 37.9357),\n",
    "    \"Walnut Creek\": (-122.0658, 37.9021),\n",
    "    \"Lafayette\": (-122.1184, 37.8860),\n",
    "    \"Orinda\": (-122.1823, 37.8766),\n",
    "    \"Rockridge\": (-122.2537, 37.8293),\n",
    "    \"West Oakland\": (-122.2953, 37.8054),\n",
    "    \"Montgomery\": (-122.4017, 37.7833),\n",
    "    \"Powell\": (-122.4076, 37.7839),\n",
    "    \"Civic Center\": (-122.4157, 37.7795),\n",
    "    \"24th St Mission\": (-122.4195, 37.7527),\n",
    "    \"Glen Park\": (-122.4349, 37.7254),\n",
    "    \"Balboa Park\": (-122.4485, 37.7246),\n",
    "    \"Daly City\": (-122.4731, 37.7103),\n",
    "    \"Colma\": (-122.4691, 37.6849),\n",
    "    \"South SF\": (-122.4465, 37.6511),\n",
    "    \"San Bruno\": (-122.4215, 37.6349),\n",
    "    \"Millbrae\": (-122.3942, 37.6062)\n",
    "}\n",
    "\n",
    "bart_lines = [\n",
    "    ['Richmond', 'El Cerrito del Norte', 'El Cerrito Plaza', 'North Berkeley', 'Downtown Berkeley',\n",
    "     'Ashby', 'MacArthur', '19th St Oakland', '12th St Oakland City Center', 'Lake Merritt', 'Fruitvale',\n",
    "     'Coliseum', 'San Leandro', 'Bay Fair', 'Hayward', 'South Hayward', 'Union City', 'Fremont'],\n",
    "    ['Pittsburg/Bay Point', 'North Concord/Martinez', 'Concord', 'Pleasant Hill', 'Walnut Creek',\n",
    "     'Lafayette', 'Orinda', 'Rockridge', 'MacArthur', '19th St Oakland', '12th St Oakland City Center',\n",
    "     'West Oakland', 'Embarcadero', 'Montgomery', 'Powell', 'Civic Center', '16th St Mission', '24th St Mission',\n",
    "     'Glen Park', 'Balboa Park', 'Daly City', 'Colma', 'South SF', 'San Bruno', 'SFO', 'Millbrae'],\n",
    "    ['Richmond', 'El Cerrito del Norte', 'El Cerrito Plaza', 'North Berkeley', 'Downtown Berkeley', 'Ashby',\n",
    "     'MacArthur', '19th St Oakland', '12th St Oakland City Center', 'West Oakland', 'Embarcadero', 'Montgomery',\n",
    "     'Powell', 'Civic Center', '16th St Mission', '24th St Mission', 'Glen Park', 'Balboa Park', 'Daly City',\n",
    "     'Colma', 'South SF', 'San Bruno', 'SFO', 'Millbrae']\n",
    "]\n",
    "\n",
    "def haversine(coord1, coord2):\n",
    "    R = 3958.8  # miles\n",
    "    lat1, lon1 = coord1\n",
    "    lat2, lon2 = coord2\n",
    "    dlat = radians(lat2 - lat1)\n",
    "    dlon = radians(lon2 - lon1)\n",
    "    a = sin(dlat / 2) ** 2 + cos(radians(lat1)) * cos(radians(lat2)) * sin(dlon / 2) ** 2\n",
    "    return R * 2 * atan2(sqrt(a), sqrt(1 - a))\n",
    "\n",
    "def get_bart_distance(start, end):\n",
    "    for line in bart_lines:\n",
    "        if start in line and end in line:\n",
    "            start_idx = line.index(start)\n",
    "            end_idx = line.index(end)\n",
    "            if start_idx > end_idx:\n",
    "                start_idx, end_idx = end_idx, start_idx\n",
    "            distance = 0\n",
    "            for i in range(start_idx, end_idx):\n",
    "                distance += haversine(station_coords[line[i]], station_coords[line[i + 1]])\n",
    "            return round(distance, 2)\n",
    "    raise BaseException(\"No route found on BART lines.\")\n",
    "\n",
    "def get_route_distance(start_coord, end_coord):\n",
    "    try:\n",
    "        route = client.directions(\n",
    "            coordinates=[start_coord, end_coord],\n",
    "            profile='driving-car',\n",
    "            format='geojson'\n",
    "        )\n",
    "        distance_m = route['features'][0]['properties']['segments'][0]['distance']\n",
    "        return distance_m / 1609.34\n",
    "    except Exception as e:\n",
    "        return None\n",
    "\n",
    "stations = list(station_coords.keys())\n",
    "\n",
    "start_dropdown = widgets.Dropdown(options=stations, description=\"Start:\")\n",
    "end_dropdown = widgets.Dropdown(options=stations, description=\"End:\")\n",
    "button = widgets.Button(description=\"Compare CO₂\")\n",
    "output = widgets.Output()\n",
    "\n",
    "display(start_dropdown, end_dropdown, button, output)\n",
    "\n",
    "def get_all_emissions(start, end):\n",
    "    start_coord = station_coords[start]\n",
    "    end_coord = station_coords[end]\n",
    "    drive_miles = get_route_distance(start_coord, end_coord)\n",
    "    if drive_miles is None:\n",
    "        print(\"Could not get route distance.\")\n",
    "        return\n",
    "    bart_miles = get_bart_distance(start, end)\n",
    "    car_kg = drive_miles * CAR_CO2_PER_MILE / 1000\n",
    "    bart_kg = bart_miles * BART_CO2_PER_MILE / 1000\n",
    "    bus_kg = drive_miles * BUS_CO2_PER_MILE / 1000\n",
    "    return car_kg, bus_kg, bart_kg\n",
    "\n",
    "def compare_emissions(b):\n",
    "    with output:\n",
    "        output.clear_output()\n",
    "        start = start_dropdown.value\n",
    "        end = end_dropdown.value\n",
    "        \n",
    "        if start == end:\n",
    "            print(\"Please select two different stations.\")\n",
    "            return\n",
    "        \n",
    "        start_coord = station_coords[start]\n",
    "        end_coord = station_coords[end]\n",
    "\n",
    "        drive_miles = get_route_distance(start_coord, end_coord)\n",
    "        if drive_miles is None:\n",
    "            print(\"Could not get route distance.\")\n",
    "            return\n",
    "        bart_miles = get_bart_distance(start, end)\n",
    "        car_kg = drive_miles * CAR_CO2_PER_MILE / 1000\n",
    "        bart_kg = bart_miles * BART_CO2_PER_MILE / 1000\n",
    "        bus_kg = drive_miles * BUS_CO2_PER_MILE / 1000\n",
    "        print(f\"From {start} to {end}:\")\n",
    "        print(f\"Driving/bus distance: {drive_miles:.2f} miles\")\n",
    "        print(f\"BART distance:  {bart_miles:.2f} miles\")\n",
    "        print(f\"Car CO₂:  {car_kg:.2f} kg\")\n",
    "        print(f\"Bus CO₂: {bus_kg:.2f} kg\")\n",
    "        print(f\"BART CO₂: {bart_kg:.2f} kg\")\n",
    "        print(f\"CO₂ difference bart/car: {(car_kg - bart_kg)/bart_kg*100:.2f}%\")\n",
    "        print(f\"CO₂ difference bus/car: {(car_kg - bus_kg)/bus_kg*100:.2f}%\")\n",
    "\n",
    "        m = folium.Map((np.array(start_coord)[::-1] + np.array(end_coord)[::-1])/2, zoom_start=10)\n",
    "        folium.Marker(list(start_coord)[::-1], popup=start).add_to(m)\n",
    "        folium.Marker(list(end_coord)[::-1], popup=end).add_to(m)\n",
    "        display(m)\n",
    "\n",
    "button.on_click(compare_emissions)"
   ]
  },
  {
   "cell_type": "code",
   "execution_count": null,
   "id": "3c6d862d-37ab-418b-acaa-6a3a48a604f6",
   "metadata": {},
   "outputs": [
    {
     "name": "stderr",
     "output_type": "stream",
     "text": [
      "/srv/conda/lib/python3.11/site-packages/openrouteservice/client.py:211: UserWarning: Rate limit exceeded. Retrying for the 1st time.\n",
      "  warnings.warn('Rate limit exceeded. Retrying for the {0}{1} time.'.format(retry_counter + 1,\n",
      "/srv/conda/lib/python3.11/site-packages/openrouteservice/client.py:211: UserWarning: Rate limit exceeded. Retrying for the 2nd time.\n",
      "  warnings.warn('Rate limit exceeded. Retrying for the {0}{1} time.'.format(retry_counter + 1,\n",
      "/srv/conda/lib/python3.11/site-packages/openrouteservice/client.py:211: UserWarning: Rate limit exceeded. Retrying for the 3rd time.\n",
      "  warnings.warn('Rate limit exceeded. Retrying for the {0}{1} time.'.format(retry_counter + 1,\n",
      "/srv/conda/lib/python3.11/site-packages/openrouteservice/client.py:211: UserWarning: Rate limit exceeded. Retrying for the 4th time.\n",
      "  warnings.warn('Rate limit exceeded. Retrying for the {0}{1} time.'.format(retry_counter + 1,\n",
      "/srv/conda/lib/python3.11/site-packages/openrouteservice/client.py:211: UserWarning: Rate limit exceeded. Retrying for the 5th time.\n",
      "  warnings.warn('Rate limit exceeded. Retrying for the {0}{1} time.'.format(retry_counter + 1,\n",
      "/srv/conda/lib/python3.11/site-packages/openrouteservice/client.py:211: UserWarning: Rate limit exceeded. Retrying for the 6th time.\n",
      "  warnings.warn('Rate limit exceeded. Retrying for the {0}{1} time.'.format(retry_counter + 1,\n",
      "/srv/conda/lib/python3.11/site-packages/openrouteservice/client.py:211: UserWarning: Rate limit exceeded. Retrying for the 7th time.\n",
      "  warnings.warn('Rate limit exceeded. Retrying for the {0}{1} time.'.format(retry_counter + 1,\n",
      "/srv/conda/lib/python3.11/site-packages/openrouteservice/client.py:211: UserWarning: Rate limit exceeded. Retrying for the 8th time.\n",
      "  warnings.warn('Rate limit exceeded. Retrying for the {0}{1} time.'.format(retry_counter + 1,\n",
      "/srv/conda/lib/python3.11/site-packages/openrouteservice/client.py:211: UserWarning: Rate limit exceeded. Retrying for the 9th time.\n",
      "  warnings.warn('Rate limit exceeded. Retrying for the {0}{1} time.'.format(retry_counter + 1,\n"
     ]
    }
   ],
   "source": [
    "emission_data = [[get_all_emissions(line[0], line[i]) for i in range(1, len(line) - 2)] for line in bart_lines]"
   ]
  },
  {
   "cell_type": "code",
   "execution_count": null,
   "id": "d5ea2292-e855-4858-973c-5dad00b9b5ef",
   "metadata": {},
   "outputs": [],
   "source": [
    "import matplotlib.pyplot as plt\n",
    "for line_index in range(3):\n",
    "    line = emission_data[line_index]\n",
    "    car = np.array(list(map(lambda x: x[0], line)))\n",
    "    bus = np.array(list(map(lambda x: x[1], line)))\n",
    "    bart = np.array(list(map(lambda x: x[2], line)))\n",
    "    miles = [get_bart_distance(bart_lines[line_index][0], bart_lines[line_index][i]) for i in range(1, len(bart_lines[line_index]) - 2)]\n",
    "\n",
    "    print(bart_lines[line_index])\n",
    "    plt.plot(miles, car, label='Car')\n",
    "    plt.plot(miles, bus, label='Bus')\n",
    "    plt.plot(miles, bart, label='Bart')\n",
    "    plt.xlabel('Distance travelled (mi)')\n",
    "    plt.ylabel('CO2 emissions (kg)')\n",
    "    plt.title(['East Bay (Orange line)', 'Cross-bay (Yellow line)', 'Transbay (Red line)'][line_index])\n",
    "    plt.legend()\n",
    "    plt.show()"
   ]
  }
 ],
 "metadata": {
  "kernelspec": {
   "display_name": "Python 3 (ipykernel)",
   "language": "python",
   "name": "python3"
  },
  "language_info": {
   "codemirror_mode": {
    "name": "ipython",
    "version": 3
   },
   "file_extension": ".py",
   "mimetype": "text/x-python",
   "name": "python",
   "nbconvert_exporter": "python",
   "pygments_lexer": "ipython3",
   "version": "3.11.11"
  }
 },
 "nbformat": 4,
 "nbformat_minor": 5
}
